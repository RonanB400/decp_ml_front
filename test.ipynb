{
 "cells": [
  {
   "cell_type": "code",
   "execution_count": 5,
   "id": "bc3e6fc0",
   "metadata": {},
   "outputs": [],
   "source": [
    "import pandas as pd\n",
    "import numpy as np"
   ]
  },
  {
   "cell_type": "code",
   "execution_count": 10,
   "id": "cd83413c",
   "metadata": {},
   "outputs": [],
   "source": [
    "bins = pd.read_csv('data/bins.csv', header=None).values.flatten()\n"
   ]
  },
  {
   "cell_type": "code",
   "execution_count": 11,
   "id": "a44c138a",
   "metadata": {},
   "outputs": [
    {
     "data": {
      "text/plain": [
       "array([ 9.90353755,  9.94265728,  9.98177701, 10.02089674, 10.06001647,\n",
       "       10.0991362 , 10.13825593, 10.17737566, 10.21649539, 10.25561512,\n",
       "       10.29473485, 10.33385458, 10.37297431, 10.41209404, 10.45121377,\n",
       "       10.4903335 , 10.52945323, 10.56857296, 10.60769269, 10.64681242,\n",
       "       10.68593215, 10.72505188, 10.76417161, 10.80329134, 10.84241107,\n",
       "       10.8815308 , 10.92065053, 10.95977026, 10.99888999, 11.03800972,\n",
       "       11.07712945, 11.11624918, 11.15536891, 11.19448864, 11.23360837,\n",
       "       11.2727281 , 11.31184783, 11.35096756, 11.39008729, 11.42920702,\n",
       "       11.46832675, 11.50744648, 11.54656621, 11.58568594, 11.62480567,\n",
       "       11.6639254 , 11.70304513, 11.74216486, 11.78128459, 11.82040432,\n",
       "       11.85952405, 11.89864378, 11.93776351, 11.97688324, 12.01600297,\n",
       "       12.0551227 , 12.09424244, 12.13336217, 12.1724819 , 12.21160163,\n",
       "       12.25072136, 12.28984109, 12.32896082, 12.36808055, 12.40720028,\n",
       "       12.44632001, 12.48543974, 12.52455947, 12.5636792 , 12.60279893,\n",
       "       12.64191866, 12.68103839, 12.72015812, 12.75927785, 12.79839758,\n",
       "       12.83751731, 12.87663704, 12.91575677, 12.9548765 , 12.99399623,\n",
       "       13.03311596, 13.07223569, 13.11135542, 13.15047515, 13.18959488,\n",
       "       13.22871461, 13.26783434, 13.30695407, 13.3460738 , 13.38519353,\n",
       "       13.42431326, 13.46343299, 13.50255272, 13.54167245, 13.58079218,\n",
       "       13.61991191, 13.65903164, 13.69815137, 13.7372711 , 13.77639083,\n",
       "       13.81551056])"
      ]
     },
     "execution_count": 11,
     "metadata": {},
     "output_type": "execute_result"
    }
   ],
   "source": [
    "bins"
   ]
  },
  {
   "cell_type": "code",
   "execution_count": 12,
   "id": "6632f163",
   "metadata": {},
   "outputs": [],
   "source": [
    "bin_centers = 0.5 * (bins[:-1] + bins[1:])\n",
    "montants = np.exp(bin_centers)"
   ]
  },
  {
   "cell_type": "code",
   "execution_count": 13,
   "id": "1f5c2ada",
   "metadata": {},
   "outputs": [
    {
     "data": {
      "text/plain": [
       "100"
      ]
     },
     "execution_count": 13,
     "metadata": {},
     "output_type": "execute_result"
    }
   ],
   "source": [
    "len(montants)"
   ]
  },
  {
   "cell_type": "code",
   "execution_count": 14,
   "id": "a32d6538",
   "metadata": {},
   "outputs": [
    {
     "data": {
      "text/plain": [
       "101"
      ]
     },
     "execution_count": 14,
     "metadata": {},
     "output_type": "execute_result"
    }
   ],
   "source": [
    "len(bins)"
   ]
  },
  {
   "cell_type": "code",
   "execution_count": null,
   "id": "6352ca3d",
   "metadata": {},
   "outputs": [],
   "source": []
  }
 ],
 "metadata": {
  "kernelspec": {
   "display_name": "decp_ml_front",
   "language": "python",
   "name": "python3"
  },
  "language_info": {
   "codemirror_mode": {
    "name": "ipython",
    "version": 3
   },
   "file_extension": ".py",
   "mimetype": "text/x-python",
   "name": "python",
   "nbconvert_exporter": "python",
   "pygments_lexer": "ipython3",
   "version": "3.10.6"
  }
 },
 "nbformat": 4,
 "nbformat_minor": 5
}
